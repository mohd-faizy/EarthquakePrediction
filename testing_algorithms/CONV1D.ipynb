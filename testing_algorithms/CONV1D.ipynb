{
 "cells": [
  {
   "cell_type": "code",
   "execution_count": 5,
   "metadata": {},
   "outputs": [],
   "source": [
    "import numpy as np\n",
    "import tensorflow as tf\n",
    "import matplotlib.pyplot as plt\n",
    "from helper import make_windows"
   ]
  },
  {
   "cell_type": "code",
   "execution_count": 17,
   "metadata": {},
   "outputs": [],
   "source": [
    "window_size = 100\n",
    "batch_size = 10"
   ]
  },
  {
   "cell_type": "code",
   "execution_count": 6,
   "metadata": {},
   "outputs": [
    {
     "data": {
      "text/plain": [
       "[<matplotlib.lines.Line2D at 0x1e8b966ea40>]"
      ]
     },
     "execution_count": 6,
     "metadata": {},
     "output_type": "execute_result"
    },
    {
     "data": {
      "image/png": "[encoded data removed]",
      "text/plain": [
       "<Figure size 640x480 with 1 Axes>"
      ]
     },
     "metadata": {},
     "output_type": "display_data"
    }
   ],
   "source": [
    "sample_data = np.loadtxt(\"../datasets/sample_data.txt\")[30000:100000]/4e6\n",
    "plt.plot(sample_data)"
   ]
  },
  {
   "cell_type": "code",
   "execution_count": 18,
   "metadata": {},
   "outputs": [
    {
     "data": {
      "text/plain": [
       "((69891, 100), (69891, 10))"
      ]
     },
     "execution_count": 18,
     "metadata": {},
     "output_type": "execute_result"
    }
   ],
   "source": [
    "windows,labels = make_windows(sample_data,window_size,batch_size)\n",
    "windows.shape,labels.shape"
   ]
  },
  {
   "cell_type": "code",
   "execution_count": 19,
   "metadata": {},
   "outputs": [
    {
     "name": "stdout",
     "output_type": "stream",
     "text": [
      "Original shape: (100,)\n",
      "Expanded shape: (100, 1)\n"
     ]
    }
   ],
   "source": [
    "# Before we pass our data to the Conv1D layer, we have to reshape it in order to make sure it works\n",
    "x = tf.constant(windows[0])\n",
    "expand_dims_layer = tf.keras.layers.Lambda(lambda x: tf.expand_dims(x, axis=1)) # add an extra dimension for timesteps\n",
    "print(f\"Original shape: {x.shape}\") # (WINDOW_SIZE)\n",
    "print(f\"Expanded shape: {expand_dims_layer(x).shape}\") # (WINDOW_SIZE, input_dim) "
   ]
  },
  {
   "cell_type": "code",
   "execution_count": 20,
   "metadata": {},
   "outputs": [
    {
     "name": "stdout",
     "output_type": "stream",
     "text": [
      "Epoch 1/100\n",
      "547/547 [==============================] - 2s 3ms/step - loss: 0.0101\n",
      "Epoch 2/100\n",
      "547/547 [==============================] - 2s 3ms/step - loss: 0.0100\n",
      "Epoch 3/100\n",
      "547/547 [==============================] - 2s 3ms/step - loss: 0.0100\n",
      "Epoch 4/100\n",
      "547/547 [==============================] - 2s 3ms/step - loss: 0.0099\n",
      "Epoch 5/100\n",
      "547/547 [==============================] - 2s 3ms/step - loss: 0.0099\n",
      "Epoch 6/100\n",
      "547/547 [==============================] - 2s 3ms/step - loss: 0.0099\n",
      "Epoch 7/100\n",
      "547/547 [==============================] - 2s 3ms/step - loss: 0.0100\n",
      "Epoch 8/100\n",
      "547/547 [==============================] - 2s 3ms/step - loss: 0.0099\n",
      "Epoch 9/100\n",
      "547/547 [==============================] - 2s 3ms/step - loss: 0.0099\n",
      "Epoch 10/100\n",
      "547/547 [==============================] - 2s 3ms/step - loss: 0.0099\n",
      "Epoch 11/100\n",
      "547/547 [==============================] - 2s 3ms/step - loss: 0.0099\n",
      "Epoch 12/100\n",
      "547/547 [==============================] - 2s 3ms/step - loss: 0.0099\n",
      "Epoch 13/100\n",
      "547/547 [==============================] - 2s 4ms/step - loss: 0.0099\n",
      "Epoch 14/100\n",
      "547/547 [==============================] - 2s 3ms/step - loss: 0.0100\n",
      "Epoch 15/100\n",
      "547/547 [==============================] - 2s 3ms/step - loss: 0.0099\n",
      "Epoch 16/100\n",
      "547/547 [==============================] - 2s 3ms/step - loss: 0.0099\n",
      "Epoch 17/100\n",
      "547/547 [==============================] - 2s 4ms/step - loss: 0.0100\n",
      "Epoch 18/100\n",
      "547/547 [==============================] - 2s 4ms/step - loss: 0.0100\n",
      "Epoch 19/100\n",
      "547/547 [==============================] - 2s 4ms/step - loss: 0.0100\n",
      "Epoch 20/100\n",
      "547/547 [==============================] - 2s 3ms/step - loss: 0.0099\n",
      "Epoch 21/100\n",
      "547/547 [==============================] - 2s 3ms/step - loss: 0.0099\n",
      "Epoch 22/100\n",
      "547/547 [==============================] - 2s 3ms/step - loss: 0.0100\n",
      "Epoch 23/100\n",
      "547/547 [==============================] - 2s 3ms/step - loss: 0.0099\n",
      "Epoch 24/100\n",
      "547/547 [==============================] - 2s 3ms/step - loss: 0.0100\n",
      "Epoch 25/100\n",
      "547/547 [==============================] - 2s 3ms/step - loss: 0.0099\n",
      "Epoch 26/100\n",
      "547/547 [==============================] - 2s 4ms/step - loss: 0.0099\n",
      "Epoch 27/100\n",
      "547/547 [==============================] - 2s 4ms/step - loss: 0.0099\n",
      "Epoch 28/100\n",
      "547/547 [==============================] - 2s 3ms/step - loss: 0.0099\n",
      "Epoch 29/100\n",
      "547/547 [==============================] - 2s 3ms/step - loss: 0.0099\n",
      "Epoch 30/100\n",
      "547/547 [==============================] - 2s 3ms/step - loss: 0.0099\n",
      "Epoch 31/100\n",
      "547/547 [==============================] - 2s 3ms/step - loss: 0.0099\n",
      "Epoch 32/100\n",
      "547/547 [==============================] - 2s 3ms/step - loss: 0.0100\n",
      "Epoch 33/100\n",
      "547/547 [==============================] - 2s 3ms/step - loss: 0.0099\n",
      "Epoch 34/100\n",
      "547/547 [==============================] - 2s 3ms/step - loss: 0.0099\n",
      "Epoch 35/100\n",
      "547/547 [==============================] - 2s 3ms/step - loss: 0.0100\n",
      "Epoch 36/100\n",
      "547/547 [==============================] - 2s 4ms/step - loss: 0.0099\n",
      "Epoch 37/100\n",
      "547/547 [==============================] - 2s 4ms/step - loss: 0.0099\n",
      "Epoch 38/100\n",
      "547/547 [==============================] - 2s 3ms/step - loss: 0.0099\n",
      "Epoch 39/100\n",
      "547/547 [==============================] - 2s 3ms/step - loss: 0.0099\n",
      "Epoch 40/100\n",
      "547/547 [==============================] - 2s 3ms/step - loss: 0.0099\n",
      "Epoch 41/100\n",
      "547/547 [==============================] - 2s 3ms/step - loss: 0.0099\n",
      "Epoch 42/100\n",
      "547/547 [==============================] - 2s 3ms/step - loss: 0.0100\n",
      "Epoch 43/100\n",
      "547/547 [==============================] - 2s 3ms/step - loss: 0.0099\n",
      "Epoch 44/100\n",
      "547/547 [==============================] - 2s 3ms/step - loss: 0.0100\n",
      "Epoch 45/100\n",
      "547/547 [==============================] - 2s 4ms/step - loss: 0.0099\n",
      "Epoch 46/100\n",
      "547/547 [==============================] - 2s 4ms/step - loss: 0.0099\n",
      "Epoch 47/100\n",
      "547/547 [==============================] - 2s 3ms/step - loss: 0.0099\n",
      "Epoch 48/100\n",
      "547/547 [==============================] - 2s 3ms/step - loss: 0.0099\n",
      "Epoch 49/100\n",
      "547/547 [==============================] - 2s 3ms/step - loss: 0.0099\n",
      "Epoch 50/100\n",
      "547/547 [==============================] - 2s 3ms/step - loss: 0.0099\n",
      "Epoch 51/100\n",
      "547/547 [==============================] - 2s 3ms/step - loss: 0.0099\n",
      "Epoch 52/100\n",
      "547/547 [==============================] - 2s 3ms/step - loss: 0.0099\n",
      "Epoch 53/100\n",
      "547/547 [==============================] - 2s 3ms/step - loss: 0.0099\n",
      "Epoch 54/100\n",
      "547/547 [==============================] - 2s 3ms/step - loss: 0.0099\n",
      "Epoch 55/100\n",
      "547/547 [==============================] - 2s 3ms/step - loss: 0.0099\n",
      "Epoch 56/100\n",
      "547/547 [==============================] - 2s 4ms/step - loss: 0.0100\n",
      "Epoch 57/100\n",
      "547/547 [==============================] - 2s 3ms/step - loss: 0.0099\n",
      "Epoch 58/100\n",
      "547/547 [==============================] - 2s 3ms/step - loss: 0.0100\n",
      "Epoch 59/100\n",
      "547/547 [==============================] - 2s 3ms/step - loss: 0.0099\n",
      "Epoch 60/100\n",
      "547/547 [==============================] - 2s 3ms/step - loss: 0.0099\n",
      "Epoch 61/100\n",
      "547/547 [==============================] - 2s 4ms/step - loss: 0.0099\n",
      "Epoch 62/100\n",
      "547/547 [==============================] - 2s 4ms/step - loss: 0.0100\n",
      "Epoch 63/100\n",
      "547/547 [==============================] - 2s 4ms/step - loss: 0.0100\n",
      "Epoch 64/100\n",
      "547/547 [==============================] - 2s 3ms/step - loss: 0.0099\n",
      "Epoch 65/100\n",
      "547/547 [==============================] - 2s 3ms/step - loss: 0.0100\n",
      "Epoch 66/100\n",
      "547/547 [==============================] - 2s 3ms/step - loss: 0.0099\n",
      "Epoch 67/100\n",
      "547/547 [==============================] - 2s 3ms/step - loss: 0.0099\n",
      "Epoch 68/100\n",
      "547/547 [==============================] - 2s 3ms/step - loss: 0.0099\n",
      "Epoch 69/100\n",
      "547/547 [==============================] - 2s 3ms/step - loss: 0.0099\n",
      "Epoch 70/100\n",
      "547/547 [==============================] - 2s 3ms/step - loss: 0.0099\n",
      "Epoch 71/100\n",
      "547/547 [==============================] - 2s 3ms/step - loss: 0.0099\n",
      "Epoch 72/100\n",
      "547/547 [==============================] - 2s 3ms/step - loss: 0.0099\n",
      "Epoch 73/100\n",
      "547/547 [==============================] - 2s 3ms/step - loss: 0.0099\n",
      "Epoch 74/100\n",
      "547/547 [==============================] - 2s 3ms/step - loss: 0.0099\n",
      "Epoch 75/100\n",
      "547/547 [==============================] - 2s 3ms/step - loss: 0.0099\n",
      "Epoch 76/100\n",
      "547/547 [==============================] - 2s 3ms/step - loss: 0.0099\n",
      "Epoch 77/100\n",
      "547/547 [==============================] - 2s 3ms/step - loss: 0.0099\n",
      "Epoch 78/100\n",
      "547/547 [==============================] - 2s 3ms/step - loss: 0.0099\n",
      "Epoch 79/100\n",
      "547/547 [==============================] - 2s 3ms/step - loss: 0.0099\n",
      "Epoch 80/100\n",
      "547/547 [==============================] - 2s 3ms/step - loss: 0.0099\n",
      "Epoch 81/100\n",
      "547/547 [==============================] - 2s 3ms/step - loss: 0.0099\n",
      "Epoch 82/100\n",
      "547/547 [==============================] - 2s 3ms/step - loss: 0.0099\n",
      "Epoch 83/100\n",
      "547/547 [==============================] - 2s 3ms/step - loss: 0.0099\n",
      "Epoch 84/100\n",
      "547/547 [==============================] - 2s 3ms/step - loss: 0.0099\n",
      "Epoch 85/100\n",
      "547/547 [==============================] - 2s 3ms/step - loss: 0.0099\n",
      "Epoch 86/100\n",
      "547/547 [==============================] - 2s 3ms/step - loss: 0.0099\n",
      "Epoch 87/100\n",
      "547/547 [==============================] - 2s 3ms/step - loss: 0.0099\n",
      "Epoch 88/100\n",
      "547/547 [==============================] - 2s 3ms/step - loss: 0.0099\n",
      "Epoch 89/100\n",
      "547/547 [==============================] - 2s 3ms/step - loss: 0.0099\n",
      "Epoch 90/100\n",
      "547/547 [==============================] - 2s 3ms/step - loss: 0.0099\n",
      "Epoch 91/100\n",
      "547/547 [==============================] - 2s 3ms/step - loss: 0.0099\n",
      "Epoch 92/100\n",
      "547/547 [==============================] - 2s 3ms/step - loss: 0.0099\n",
      "Epoch 93/100\n",
      "547/547 [==============================] - 2s 3ms/step - loss: 0.0099\n",
      "Epoch 94/100\n",
      "547/547 [==============================] - 2s 3ms/step - loss: 0.0099\n",
      "Epoch 95/100\n",
      "547/547 [==============================] - 2s 3ms/step - loss: 0.0099\n",
      "Epoch 96/100\n",
      "547/547 [==============================] - 2s 3ms/step - loss: 0.0099\n",
      "Epoch 97/100\n",
      "547/547 [==============================] - 2s 3ms/step - loss: 0.0100\n",
      "Epoch 98/100\n",
      "547/547 [==============================] - 2s 3ms/step - loss: 0.0099\n",
      "Epoch 99/100\n",
      "547/547 [==============================] - 2s 3ms/step - loss: 0.0099\n",
      "Epoch 100/100\n",
      "547/547 [==============================] - 2s 3ms/step - loss: 0.0099\n"
     ]
    },
    {
     "data": {
      "text/plain": [
       "<keras.callbacks.History at 0x1e8bd582e30>"
      ]
     },
     "execution_count": 20,
     "metadata": {},
     "output_type": "execute_result"
    }
   ],
   "source": [
    "tf.random.set_seed(42)\n",
    "\n",
    "# Create model\n",
    "model_4 = tf.keras.Sequential([\n",
    "  # Create Lambda layer to reshape inputs, without this layer, the model will error\n",
    "  tf.keras.layers.Lambda(lambda x: tf.expand_dims(x, axis=1)), # resize the inputs to adjust for window size / Conv1D 3D input requirements\n",
    "  tf.keras.layers.Conv1D(filters=128, kernel_size=5, padding=\"causal\", activation=\"relu\"),\n",
    "  tf.keras.layers.Dense(batch_size)\n",
    "], name=\"model_4_conv1D\")\n",
    "\n",
    "# Compile model\n",
    "model_4.compile(loss=\"mae\",\n",
    "                optimizer=tf.keras.optimizers.Adam())\n",
    "\n",
    "# Fit model\n",
    "model_4.fit(windows,\n",
    "            labels,\n",
    "            batch_size=128, \n",
    "            epochs=100,\n",
    "            )"
   ]
  },
  {
   "cell_type": "code",
   "execution_count": 21,
   "metadata": {},
   "outputs": [
    {
     "name": "stdout",
     "output_type": "stream",
     "text": [
      "2185/2185 [==============================] - 2s 1ms/step\n"
     ]
    },
    {
     "data": {
      "text/plain": [
       "TensorShape([69891, 10])"
      ]
     },
     "execution_count": 21,
     "metadata": {},
     "output_type": "execute_result"
    }
   ],
   "source": [
    "model_4_preds = tf.squeeze(model_4.predict(windows))\n",
    "model_4_preds.shape"
   ]
  },
  {
   "cell_type": "code",
   "execution_count": 23,
   "metadata": {},
   "outputs": [
    {
     "data": {
      "text/plain": [
       "<matplotlib.legend.Legend at 0x1e8bc48d750>"
      ]
     },
     "execution_count": 23,
     "metadata": {},
     "output_type": "execute_result"
    },
    {
     "data": {
      "image/png": "[encoded data removed]",
      "text/plain": [
       "<Figure size 640x480 with 1 Axes>"
      ]
     },
     "metadata": {},
     "output_type": "display_data"
    }
   ],
   "source": [
    "plt.plot(model_4_preds[:,0],label=\"Pred\",linewidth=0.5)\n",
    "plt.plot(labels[:,0],label=\"Real\",linewidth=0.5)\n",
    "plt.legend()"
   ]
  }
 ],
 "metadata": {
  "kernelspec": {
   "display_name": ".venv",
   "language": "python",
   "name": "python3"
  },
  "language_info": {
   "codemirror_mode": {
    "name": "ipython",
    "version": 3
   },
   "file_extension": ".py",
   "mimetype": "text/x-python",
   "name": "python",
   "nbconvert_exporter": "python",
   "pygments_lexer": "ipython3",
   "version": "3.10.10"
  },
  "orig_nbformat": 4
 },
 "nbformat": 4,
 "nbformat_minor": 2
}
