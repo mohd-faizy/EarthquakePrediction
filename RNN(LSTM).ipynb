{
 "cells": [
  {
   "cell_type": "code",
   "execution_count": 1,
   "metadata": {},
   "outputs": [],
   "source": [
    "import numpy as np\n",
    "import tensorflow as tf\n",
    "import matplotlib.pyplot as plt\n",
    "import helper"
   ]
  },
  {
   "cell_type": "code",
   "execution_count": 2,
   "metadata": {},
   "outputs": [],
   "source": [
    "window_size = 100\n",
    "batch_size = 10"
   ]
  },
  {
   "cell_type": "code",
   "execution_count": 3,
   "metadata": {},
   "outputs": [
    {
     "data": {
      "text/plain": [
       "[<matplotlib.lines.Line2D at 0x2350f6e5390>]"
      ]
     },
     "execution_count": 3,
     "metadata": {},
     "output_type": "execute_result"
    },
    {
     "data": {
      "image/png": "[encoded data removed]",
      "text/plain": [
       "<Figure size 640x480 with 1 Axes>"
      ]
     },
     "metadata": {},
     "output_type": "display_data"
    }
   ],
   "source": [
    "sample_data = np.loadtxt(\"datasets/sample_data.txt\")[30000:100000]/4e6\n",
    "plt.plot(sample_data)"
   ]
  },
  {
   "cell_type": "code",
   "execution_count": 7,
   "metadata": {},
   "outputs": [
    {
     "data": {
      "text/plain": [
       "((69891, 100), (69891, 10))"
      ]
     },
     "execution_count": 7,
     "metadata": {},
     "output_type": "execute_result"
    }
   ],
   "source": [
    "windows,labels = helper.make_windows(sample_data,window_size,batch_size)\n",
    "windows.shape,labels.shape"
   ]
  },
  {
   "cell_type": "code",
   "execution_count": 4,
   "metadata": {},
   "outputs": [],
   "source": [
    "es = tf.keras.callbacks.EarlyStopping(monitor='val_loss', mode='min', verbose=1, patience=20)"
   ]
  },
  {
   "cell_type": "code",
   "execution_count": 5,
   "metadata": {},
   "outputs": [
    {
     "name": "stdout",
     "output_type": "stream",
     "text": [
      "Model: \"model\"\n",
      "_________________________________________________________________\n",
      " Layer (type)                Output Shape              Param #   \n",
      "=================================================================\n",
      " input_1 (InputLayer)        [(None, 100)]             0         \n",
      "                                                                 \n",
      " lambda (Lambda)             (None, 100, 1)            0         \n",
      "                                                                 \n",
      " lstm (LSTM)                 (None, 128)               66560     \n",
      "                                                                 \n",
      " dense (Dense)               (None, 10)                1290      \n",
      "                                                                 \n",
      "=================================================================\n",
      "Total params: 67,850\n",
      "Trainable params: 67,850\n",
      "Non-trainable params: 0\n",
      "_________________________________________________________________\n"
     ]
    }
   ],
   "source": [
    "inputs = tf.keras.layers.Input(shape=(window_size))\n",
    "x = tf.keras.layers.Lambda(lambda x: tf.expand_dims(x,axis=-1))(inputs)\n",
    "#x = tf.keras.layers.LSTM(128,return_sequences=True)(x)\n",
    "x = tf.keras.layers.LSTM(128,activation=\"relu\")(x)\n",
    "#x = tf.keras.layers.Dense(32,activation=\"relu\")(x)\n",
    "output = tf.keras.layers.Dense(batch_size,activation=\"linear\")(x)\n",
    "model = tf.keras.Model(inputs=inputs,outputs=output)\n",
    "model.compile(optimizer=\"adam\",loss=\"mse\")\n",
    "model.summary()"
   ]
  },
  {
   "cell_type": "code",
   "execution_count": 8,
   "metadata": {},
   "outputs": [
    {
     "name": "stdout",
     "output_type": "stream",
     "text": [
      "Epoch 1/100\n",
      "1966/1966 [==============================] - 115s 57ms/step - loss: 2.1886e-04 - val_loss: 8.9484e-06\n",
      "Epoch 2/100\n",
      "1966/1966 [==============================] - 109s 55ms/step - loss: 1.5049e-04 - val_loss: 1.3981e-05\n",
      "Epoch 3/100\n",
      "1966/1966 [==============================] - 111s 56ms/step - loss: 1.3343e-04 - val_loss: 6.1078e-06\n",
      "Epoch 4/100\n",
      "1966/1966 [==============================] - 109s 55ms/step - loss: 1.3289e-04 - val_loss: 7.1690e-06\n",
      "Epoch 5/100\n",
      "1966/1966 [==============================] - 110s 56ms/step - loss: 1.2092e-04 - val_loss: 6.2971e-06\n",
      "Epoch 6/100\n",
      "1966/1966 [==============================] - 110s 56ms/step - loss: 1.1821e-04 - val_loss: 5.4714e-06\n",
      "Epoch 7/100\n",
      "1966/1966 [==============================] - 110s 56ms/step - loss: 0.0013 - val_loss: 4.8677e-06\n",
      "Epoch 8/100\n",
      "1966/1966 [==============================] - 116s 59ms/step - loss: 1.1999e-04 - val_loss: 4.9175e-06\n",
      "Epoch 9/100\n",
      "1966/1966 [==============================] - 110s 56ms/step - loss: 1.1863e-04 - val_loss: 4.7740e-06\n",
      "Epoch 10/100\n",
      "1966/1966 [==============================] - 114s 58ms/step - loss: 1.1775e-04 - val_loss: 4.7919e-06\n",
      "Epoch 11/100\n",
      "1966/1966 [==============================] - 116s 59ms/step - loss: 1.1740e-04 - val_loss: 8.6807e-06\n",
      "Epoch 12/100\n",
      "1966/1966 [==============================] - 115s 59ms/step - loss: 1.1546e-04 - val_loss: 7.8796e-06\n",
      "Epoch 13/100\n",
      "1966/1966 [==============================] - 121s 61ms/step - loss: 1.1464e-04 - val_loss: 5.6306e-06\n",
      "Epoch 14/100\n",
      "1966/1966 [==============================] - 114s 58ms/step - loss: 1.1350e-04 - val_loss: 5.8158e-06\n",
      "Epoch 15/100\n",
      "1966/1966 [==============================] - 119s 61ms/step - loss: 1.1111e-04 - val_loss: 9.7698e-06\n",
      "Epoch 16/100\n",
      "1966/1966 [==============================] - 115s 59ms/step - loss: 1.1125e-04 - val_loss: 6.0108e-06\n",
      "Epoch 17/100\n",
      "1966/1966 [==============================] - 116s 59ms/step - loss: 1.1017e-04 - val_loss: 2.1334e-05\n",
      "Epoch 18/100\n",
      "1966/1966 [==============================] - 121s 61ms/step - loss: 0.0221 - val_loss: 5.9285e-06\n",
      "Epoch 19/100\n",
      "1966/1966 [==============================] - 119s 61ms/step - loss: 1.6079e-04 - val_loss: 6.2411e-06\n",
      "Epoch 20/100\n",
      "1966/1966 [==============================] - 118s 60ms/step - loss: 1.3985e-04 - val_loss: 5.5571e-06\n",
      "Epoch 21/100\n",
      "1966/1966 [==============================] - 117s 59ms/step - loss: 1.3009e-04 - val_loss: 1.2428e-05\n",
      "Epoch 22/100\n",
      "1966/1966 [==============================] - 124s 63ms/step - loss: 1.2465e-04 - val_loss: 6.7280e-06\n",
      "Epoch 23/100\n",
      "1966/1966 [==============================] - 115s 58ms/step - loss: 1.1701e-04 - val_loss: 8.5707e-06\n",
      "Epoch 24/100\n",
      "1966/1966 [==============================] - 124s 63ms/step - loss: 1.1220e-04 - val_loss: 5.4371e-06\n",
      "Epoch 25/100\n",
      "1966/1966 [==============================] - 117s 59ms/step - loss: 1.0953e-04 - val_loss: 5.3928e-06\n",
      "Epoch 26/100\n",
      "1966/1966 [==============================] - 131s 67ms/step - loss: 1.0848e-04 - val_loss: 6.3031e-06\n",
      "Epoch 27/100\n",
      "1966/1966 [==============================] - 122s 62ms/step - loss: 1.0670e-04 - val_loss: 8.4767e-06\n",
      "Epoch 28/100\n",
      "1966/1966 [==============================] - 117s 60ms/step - loss: 0.0126 - val_loss: 6.2036e-06\n",
      "Epoch 29/100\n",
      "1966/1966 [==============================] - 114s 58ms/step - loss: 1.8727e-04 - val_loss: 3.7618e-06\n",
      "Epoch 30/100\n",
      "1966/1966 [==============================] - 114s 58ms/step - loss: 1.6721e-04 - val_loss: 4.3183e-06\n",
      "Epoch 31/100\n",
      "1966/1966 [==============================] - 117s 59ms/step - loss: 1.6139e-04 - val_loss: 3.7692e-05\n",
      "Epoch 32/100\n",
      "1966/1966 [==============================] - 119s 60ms/step - loss: 1.5653e-04 - val_loss: 4.6783e-06\n",
      "Epoch 33/100\n",
      "1966/1966 [==============================] - 134s 68ms/step - loss: 1.5060e-04 - val_loss: 1.1924e-05\n",
      "Epoch 34/100\n",
      "1966/1966 [==============================] - 122s 62ms/step - loss: 2.4539e-04 - val_loss: 4.5583e-05\n",
      "Epoch 35/100\n",
      "1966/1966 [==============================] - 122s 62ms/step - loss: 1.8082e-04 - val_loss: 1.5528e-05\n",
      "Epoch 36/100\n",
      "1966/1966 [==============================] - 118s 60ms/step - loss: 1.7145e-04 - val_loss: 5.6228e-05\n",
      "Epoch 37/100\n",
      "1966/1966 [==============================] - 131s 66ms/step - loss: 1.5659e-04 - val_loss: 5.6947e-06\n",
      "Epoch 38/100\n",
      "1966/1966 [==============================] - 133s 68ms/step - loss: 1.4303e-04 - val_loss: 5.7209e-06\n",
      "Epoch 39/100\n",
      "1966/1966 [==============================] - 125s 64ms/step - loss: 1.3237e-04 - val_loss: 1.8289e-05\n",
      "Epoch 40/100\n",
      "1966/1966 [==============================] - 137s 70ms/step - loss: 1.2292e-04 - val_loss: 6.2258e-06\n",
      "Epoch 41/100\n",
      "1966/1966 [==============================] - 133s 68ms/step - loss: 1.1532e-04 - val_loss: 5.8562e-06\n",
      "Epoch 42/100\n",
      "1966/1966 [==============================] - 119s 61ms/step - loss: 1.8311e-04 - val_loss: 5.6208e-06\n",
      "Epoch 43/100\n",
      "1966/1966 [==============================] - 137s 70ms/step - loss: 1.1318e-04 - val_loss: 5.5385e-06\n",
      "Epoch 44/100\n",
      "1966/1966 [==============================] - 149s 76ms/step - loss: 1.1307e-04 - val_loss: 7.2272e-06\n",
      "Epoch 45/100\n",
      "1966/1966 [==============================] - 138s 70ms/step - loss: 1.1233e-04 - val_loss: 8.8484e-06\n",
      "Epoch 46/100\n",
      "1966/1966 [==============================] - 137s 70ms/step - loss: 1.0951e-04 - val_loss: 5.0824e-06\n",
      "Epoch 47/100\n",
      "1966/1966 [==============================] - 142s 72ms/step - loss: 1.0704e-04 - val_loss: 6.7133e-06\n",
      "Epoch 48/100\n",
      "1966/1966 [==============================] - 135s 69ms/step - loss: 0.0019 - val_loss: 6.9081e-06\n",
      "Epoch 49/100\n",
      "1966/1966 [==============================] - 117s 59ms/step - loss: 2.3654e-04 - val_loss: 1.3459e-05\n",
      "Epoch 49: early stopping\n"
     ]
    },
    {
     "data": {
      "text/plain": [
       "<keras.callbacks.History at 0x2350f7cac50>"
      ]
     },
     "execution_count": 8,
     "metadata": {},
     "output_type": "execute_result"
    }
   ],
   "source": [
    "model.fit(windows,labels,epochs=100,validation_split=0.1,callbacks=[es])"
   ]
  },
  {
   "cell_type": "code",
   "execution_count": 9,
   "metadata": {},
   "outputs": [
    {
     "name": "stdout",
     "output_type": "stream",
     "text": [
      "2185/2185 [==============================] - 54s 24ms/step\n"
     ]
    },
    {
     "data": {
      "text/plain": [
       "array([[-0.00512562, -0.00431895, -0.00466802, ..., -0.00735828,\n",
       "        -0.00762598, -0.00840861],\n",
       "       [-0.00495076, -0.00418669, -0.00461944, ..., -0.00766326,\n",
       "        -0.00791368, -0.00869021],\n",
       "       [-0.00493989, -0.00421952, -0.00475003, ..., -0.00810702,\n",
       "        -0.00835428, -0.00914101],\n",
       "       ...,\n",
       "       [-0.00579618, -0.00508966, -0.0057523 , ..., -0.0081387 ,\n",
       "        -0.00888962, -0.00936307],\n",
       "       [-0.00385214, -0.00283079, -0.00280475, ..., -0.00361499,\n",
       "        -0.00444117, -0.00515815],\n",
       "       [-0.00211728, -0.00089184, -0.00051628, ..., -0.00120074,\n",
       "        -0.00191875, -0.00279055]], dtype=float32)"
      ]
     },
     "execution_count": 9,
     "metadata": {},
     "output_type": "execute_result"
    }
   ],
   "source": [
    "model.predict(windows)"
   ]
  }
 ],
 "metadata": {
  "kernelspec": {
   "display_name": "Python 3",
   "language": "python",
   "name": "python3"
  },
  "language_info": {
   "codemirror_mode": {
    "name": "ipython",
    "version": 3
   },
   "file_extension": ".py",
   "mimetype": "text/x-python",
   "name": "python",
   "nbconvert_exporter": "python",
   "pygments_lexer": "ipython3",
   "version": "3.10.7"
  },
  "orig_nbformat": 4,
  "vscode": {
   "interpreter": {
    "hash": "13f3ce89a5df2ac5a13e4cc62c988721835be963b086d264dfe782dec54fd990"
   }
  }
 },
 "nbformat": 4,
 "nbformat_minor": 2
}
