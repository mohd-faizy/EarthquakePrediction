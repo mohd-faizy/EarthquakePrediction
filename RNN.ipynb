{
 "cells": [
  {
   "cell_type": "code",
   "execution_count": 1,
   "metadata": {},
   "outputs": [],
   "source": [
    "import numpy as np\n",
    "import tensorflow as tf\n",
    "import matplotlib.pyplot as plt"
   ]
  },
  {
   "cell_type": "code",
   "execution_count": 2,
   "metadata": {},
   "outputs": [],
   "source": [
    "window_size = 100\n",
    "batch_size = 10"
   ]
  },
  {
   "cell_type": "code",
   "execution_count": 3,
   "metadata": {},
   "outputs": [
    {
     "data": {
      "text/plain": [
       "[<matplotlib.lines.Line2D at 0x131115d5240>]"
      ]
     },
     "execution_count": 3,
     "metadata": {},
     "output_type": "execute_result"
    },
    {
     "data": {
      "image/png": "[encoded data removed]",
      "text/plain": [
       "<Figure size 640x480 with 1 Axes>"
      ]
     },
     "metadata": {},
     "output_type": "display_data"
    }
   ],
   "source": [
    "sample_data = np.loadtxt(\"datasets/sample_data.txt\")[30000:100000]/4e6\n",
    "plt.plot(sample_data)"
   ]
  },
  {
   "cell_type": "code",
   "execution_count": 4,
   "metadata": {},
   "outputs": [
    {
     "data": {
      "text/plain": [
       "((69891, 100), (69891, 10))"
      ]
     },
     "execution_count": 4,
     "metadata": {},
     "output_type": "execute_result"
    }
   ],
   "source": [
    "def get_labeled_window(x,batch_size=batch_size):\n",
    "    return x[:,:-batch_size],x[:,-batch_size:]\n",
    "\n",
    "def make_windows(x,window_size=window_size,batch_size=batch_size):\n",
    "    window_step = np.expand_dims(np.arange(window_size+batch_size),axis=0)\n",
    "    window_indexes = window_step + np.expand_dims(np.arange(len(x)-(window_size+batch_size-1)),axis=0).T\n",
    "\n",
    "    windowed_array = x[window_indexes]\n",
    "    windows,labels = get_labeled_window(windowed_array)\n",
    "\n",
    "    return windows,labels\n",
    "\n",
    "windows,labels = make_windows(sample_data)\n",
    "windows.shape,labels.shape"
   ]
  },
  {
   "cell_type": "code",
   "execution_count": 23,
   "metadata": {},
   "outputs": [],
   "source": [
    "es = tf.keras.callbacks.EarlyStopping(monitor='val_loss', mode='min', verbose=1, patience=20)"
   ]
  },
  {
   "attachments": {},
   "cell_type": "markdown",
   "metadata": {},
   "source": [
    "### Model 1: Dense model with 1 hidden layer"
   ]
  },
  {
   "cell_type": "code",
   "execution_count": 24,
   "metadata": {},
   "outputs": [
    {
     "name": "stdout",
     "output_type": "stream",
     "text": [
      "Epoch 1/100\n",
      "1748/1748 [==============================] - 3s 2ms/step - loss: 0.0061 - mae: 0.0061 - val_loss: 0.0023 - val_mae: 0.0023\n",
      "Epoch 2/100\n",
      "1748/1748 [==============================] - 3s 2ms/step - loss: 0.0052 - mae: 0.0052 - val_loss: 0.0021 - val_mae: 0.0021\n",
      "Epoch 3/100\n",
      "1748/1748 [==============================] - 3s 2ms/step - loss: 0.0049 - mae: 0.0049 - val_loss: 0.0022 - val_mae: 0.0022\n",
      "Epoch 4/100\n",
      "1748/1748 [==============================] - 3s 2ms/step - loss: 0.0048 - mae: 0.0048 - val_loss: 0.0021 - val_mae: 0.0021\n",
      "Epoch 5/100\n",
      "1748/1748 [==============================] - 3s 2ms/step - loss: 0.0047 - mae: 0.0047 - val_loss: 0.0022 - val_mae: 0.0022\n",
      "Epoch 6/100\n",
      "1748/1748 [==============================] - 3s 2ms/step - loss: 0.0046 - mae: 0.0046 - val_loss: 0.0020 - val_mae: 0.0020\n",
      "Epoch 7/100\n",
      "1748/1748 [==============================] - 3s 2ms/step - loss: 0.0045 - mae: 0.0045 - val_loss: 0.0020 - val_mae: 0.0020\n",
      "Epoch 8/100\n",
      "1748/1748 [==============================] - 3s 2ms/step - loss: 0.0045 - mae: 0.0045 - val_loss: 0.0020 - val_mae: 0.0020\n",
      "Epoch 9/100\n",
      "1748/1748 [==============================] - 3s 2ms/step - loss: 0.0044 - mae: 0.0044 - val_loss: 0.0020 - val_mae: 0.0020\n",
      "Epoch 10/100\n",
      "1748/1748 [==============================] - 3s 2ms/step - loss: 0.0044 - mae: 0.0044 - val_loss: 0.0021 - val_mae: 0.0021\n",
      "Epoch 11/100\n",
      "1748/1748 [==============================] - 3s 2ms/step - loss: 0.0043 - mae: 0.0043 - val_loss: 0.0020 - val_mae: 0.0020\n",
      "Epoch 12/100\n",
      "1748/1748 [==============================] - 3s 2ms/step - loss: 0.0043 - mae: 0.0043 - val_loss: 0.0020 - val_mae: 0.0020\n",
      "Epoch 13/100\n",
      "1748/1748 [==============================] - 3s 2ms/step - loss: 0.0043 - mae: 0.0043 - val_loss: 0.0020 - val_mae: 0.0020\n",
      "Epoch 14/100\n",
      "1748/1748 [==============================] - 3s 2ms/step - loss: 0.0043 - mae: 0.0043 - val_loss: 0.0020 - val_mae: 0.0020\n",
      "Epoch 15/100\n",
      "1748/1748 [==============================] - 3s 2ms/step - loss: 0.0042 - mae: 0.0042 - val_loss: 0.0021 - val_mae: 0.0021\n",
      "Epoch 16/100\n",
      "1748/1748 [==============================] - 3s 2ms/step - loss: 0.0042 - mae: 0.0042 - val_loss: 0.0020 - val_mae: 0.0020\n",
      "Epoch 17/100\n",
      "1748/1748 [==============================] - 3s 2ms/step - loss: 0.0042 - mae: 0.0042 - val_loss: 0.0022 - val_mae: 0.0022\n",
      "Epoch 18/100\n",
      "1748/1748 [==============================] - 3s 2ms/step - loss: 0.0042 - mae: 0.0042 - val_loss: 0.0022 - val_mae: 0.0022\n",
      "Epoch 19/100\n",
      "1748/1748 [==============================] - 3s 2ms/step - loss: 0.0041 - mae: 0.0041 - val_loss: 0.0020 - val_mae: 0.0020\n",
      "Epoch 20/100\n",
      "1748/1748 [==============================] - 3s 2ms/step - loss: 0.0041 - mae: 0.0041 - val_loss: 0.0024 - val_mae: 0.0024\n",
      "Epoch 21/100\n",
      "1748/1748 [==============================] - 3s 2ms/step - loss: 0.0041 - mae: 0.0041 - val_loss: 0.0022 - val_mae: 0.0022\n",
      "Epoch 22/100\n",
      "1748/1748 [==============================] - 3s 2ms/step - loss: 0.0041 - mae: 0.0041 - val_loss: 0.0020 - val_mae: 0.0020\n",
      "Epoch 23/100\n",
      "1748/1748 [==============================] - 3s 2ms/step - loss: 0.0041 - mae: 0.0041 - val_loss: 0.0021 - val_mae: 0.0021\n",
      "Epoch 24/100\n",
      "1748/1748 [==============================] - 3s 2ms/step - loss: 0.0041 - mae: 0.0041 - val_loss: 0.0020 - val_mae: 0.0020\n",
      "Epoch 25/100\n",
      "1748/1748 [==============================] - 3s 2ms/step - loss: 0.0041 - mae: 0.0041 - val_loss: 0.0021 - val_mae: 0.0021\n",
      "Epoch 26/100\n",
      "1748/1748 [==============================] - 3s 2ms/step - loss: 0.0041 - mae: 0.0041 - val_loss: 0.0021 - val_mae: 0.0021\n",
      "Epoch 27/100\n",
      "1748/1748 [==============================] - 3s 2ms/step - loss: 0.0040 - mae: 0.0040 - val_loss: 0.0020 - val_mae: 0.0020\n",
      "Epoch 28/100\n",
      "1748/1748 [==============================] - 3s 2ms/step - loss: 0.0040 - mae: 0.0040 - val_loss: 0.0020 - val_mae: 0.0020\n",
      "Epoch 29/100\n",
      "1748/1748 [==============================] - 3s 2ms/step - loss: 0.0040 - mae: 0.0040 - val_loss: 0.0020 - val_mae: 0.0020\n",
      "Epoch 30/100\n",
      "1748/1748 [==============================] - 3s 2ms/step - loss: 0.0040 - mae: 0.0040 - val_loss: 0.0021 - val_mae: 0.0021\n",
      "Epoch 31/100\n",
      "1748/1748 [==============================] - 3s 2ms/step - loss: 0.0040 - mae: 0.0040 - val_loss: 0.0020 - val_mae: 0.0020\n",
      "Epoch 32/100\n",
      "1748/1748 [==============================] - 3s 2ms/step - loss: 0.0040 - mae: 0.0040 - val_loss: 0.0020 - val_mae: 0.0020\n",
      "Epoch 33/100\n",
      "1748/1748 [==============================] - 3s 2ms/step - loss: 0.0040 - mae: 0.0040 - val_loss: 0.0019 - val_mae: 0.0019\n",
      "Epoch 34/100\n",
      "1748/1748 [==============================] - 3s 2ms/step - loss: 0.0040 - mae: 0.0040 - val_loss: 0.0019 - val_mae: 0.0019\n",
      "Epoch 35/100\n",
      "1748/1748 [==============================] - 3s 2ms/step - loss: 0.0040 - mae: 0.0040 - val_loss: 0.0019 - val_mae: 0.0019\n",
      "Epoch 36/100\n",
      "1748/1748 [==============================] - 3s 2ms/step - loss: 0.0040 - mae: 0.0040 - val_loss: 0.0020 - val_mae: 0.0020\n",
      "Epoch 37/100\n",
      "1748/1748 [==============================] - 3s 2ms/step - loss: 0.0040 - mae: 0.0040 - val_loss: 0.0019 - val_mae: 0.0019\n",
      "Epoch 38/100\n",
      "1748/1748 [==============================] - 3s 2ms/step - loss: 0.0039 - mae: 0.0039 - val_loss: 0.0020 - val_mae: 0.0020\n",
      "Epoch 39/100\n",
      "1748/1748 [==============================] - 3s 2ms/step - loss: 0.0040 - mae: 0.0040 - val_loss: 0.0019 - val_mae: 0.0019\n",
      "Epoch 40/100\n",
      "1748/1748 [==============================] - 3s 2ms/step - loss: 0.0039 - mae: 0.0039 - val_loss: 0.0019 - val_mae: 0.0019\n",
      "Epoch 41/100\n",
      "1748/1748 [==============================] - 3s 2ms/step - loss: 0.0039 - mae: 0.0039 - val_loss: 0.0019 - val_mae: 0.0019\n",
      "Epoch 42/100\n",
      "1748/1748 [==============================] - 3s 2ms/step - loss: 0.0039 - mae: 0.0039 - val_loss: 0.0020 - val_mae: 0.0020\n",
      "Epoch 43/100\n",
      "1748/1748 [==============================] - 3s 2ms/step - loss: 0.0039 - mae: 0.0039 - val_loss: 0.0019 - val_mae: 0.0019\n",
      "Epoch 44/100\n",
      "1748/1748 [==============================] - 3s 2ms/step - loss: 0.0039 - mae: 0.0039 - val_loss: 0.0019 - val_mae: 0.0019\n",
      "Epoch 45/100\n",
      "1748/1748 [==============================] - 3s 2ms/step - loss: 0.0039 - mae: 0.0039 - val_loss: 0.0020 - val_mae: 0.0020\n",
      "Epoch 46/100\n",
      "1748/1748 [==============================] - 3s 2ms/step - loss: 0.0039 - mae: 0.0039 - val_loss: 0.0021 - val_mae: 0.0021\n",
      "Epoch 47/100\n",
      "1748/1748 [==============================] - 3s 2ms/step - loss: 0.0039 - mae: 0.0039 - val_loss: 0.0020 - val_mae: 0.0020\n",
      "Epoch 48/100\n",
      "1748/1748 [==============================] - 3s 2ms/step - loss: 0.0039 - mae: 0.0039 - val_loss: 0.0022 - val_mae: 0.0022\n",
      "Epoch 49/100\n",
      "1748/1748 [==============================] - 3s 2ms/step - loss: 0.0039 - mae: 0.0039 - val_loss: 0.0024 - val_mae: 0.0024\n",
      "Epoch 50/100\n",
      "1748/1748 [==============================] - 3s 1ms/step - loss: 0.0039 - mae: 0.0039 - val_loss: 0.0019 - val_mae: 0.0019\n",
      "Epoch 51/100\n",
      "1748/1748 [==============================] - 3s 1ms/step - loss: 0.0039 - mae: 0.0039 - val_loss: 0.0020 - val_mae: 0.0020\n",
      "Epoch 52/100\n",
      "1748/1748 [==============================] - 3s 1ms/step - loss: 0.0039 - mae: 0.0039 - val_loss: 0.0020 - val_mae: 0.0020\n",
      "Epoch 53/100\n",
      "1748/1748 [==============================] - 3s 2ms/step - loss: 0.0039 - mae: 0.0039 - val_loss: 0.0020 - val_mae: 0.0020\n",
      "Epoch 54/100\n",
      "1748/1748 [==============================] - 3s 1ms/step - loss: 0.0039 - mae: 0.0039 - val_loss: 0.0020 - val_mae: 0.0020\n",
      "Epoch 55/100\n",
      "1748/1748 [==============================] - 3s 2ms/step - loss: 0.0038 - mae: 0.0038 - val_loss: 0.0022 - val_mae: 0.0022\n",
      "Epoch 56/100\n",
      "1748/1748 [==============================] - 3s 1ms/step - loss: 0.0039 - mae: 0.0039 - val_loss: 0.0020 - val_mae: 0.0020\n",
      "Epoch 57/100\n",
      "1748/1748 [==============================] - 3s 1ms/step - loss: 0.0038 - mae: 0.0038 - val_loss: 0.0020 - val_mae: 0.0020\n",
      "Epoch 58/100\n",
      "1748/1748 [==============================] - 3s 1ms/step - loss: 0.0038 - mae: 0.0038 - val_loss: 0.0020 - val_mae: 0.0020\n",
      "Epoch 59/100\n",
      "1748/1748 [==============================] - 3s 1ms/step - loss: 0.0038 - mae: 0.0038 - val_loss: 0.0021 - val_mae: 0.0021\n",
      "Epoch 60/100\n",
      "1748/1748 [==============================] - 3s 2ms/step - loss: 0.0038 - mae: 0.0038 - val_loss: 0.0020 - val_mae: 0.0020\n",
      "Epoch 61/100\n",
      "1748/1748 [==============================] - 3s 1ms/step - loss: 0.0038 - mae: 0.0038 - val_loss: 0.0020 - val_mae: 0.0020\n",
      "Epoch 62/100\n",
      "1748/1748 [==============================] - 3s 1ms/step - loss: 0.0038 - mae: 0.0038 - val_loss: 0.0022 - val_mae: 0.0022\n",
      "Epoch 63/100\n",
      "1748/1748 [==============================] - 3s 1ms/step - loss: 0.0038 - mae: 0.0038 - val_loss: 0.0019 - val_mae: 0.0019\n",
      "Epoch 64/100\n",
      "1748/1748 [==============================] - 3s 1ms/step - loss: 0.0038 - mae: 0.0038 - val_loss: 0.0019 - val_mae: 0.0019\n",
      "Epoch 65/100\n",
      "1748/1748 [==============================] - 3s 1ms/step - loss: 0.0038 - mae: 0.0038 - val_loss: 0.0020 - val_mae: 0.0020\n",
      "Epoch 66/100\n",
      "1748/1748 [==============================] - 3s 1ms/step - loss: 0.0038 - mae: 0.0038 - val_loss: 0.0021 - val_mae: 0.0021\n",
      "Epoch 67/100\n",
      "1748/1748 [==============================] - 3s 1ms/step - loss: 0.0038 - mae: 0.0038 - val_loss: 0.0020 - val_mae: 0.0020\n",
      "Epoch 68/100\n",
      "1748/1748 [==============================] - 3s 1ms/step - loss: 0.0038 - mae: 0.0038 - val_loss: 0.0020 - val_mae: 0.0020\n",
      "Epoch 69/100\n",
      "1748/1748 [==============================] - 3s 1ms/step - loss: 0.0038 - mae: 0.0038 - val_loss: 0.0019 - val_mae: 0.0019\n",
      "Epoch 70/100\n",
      "1748/1748 [==============================] - 3s 1ms/step - loss: 0.0038 - mae: 0.0038 - val_loss: 0.0019 - val_mae: 0.0019\n",
      "Epoch 71/100\n",
      "1748/1748 [==============================] - 3s 1ms/step - loss: 0.0038 - mae: 0.0038 - val_loss: 0.0022 - val_mae: 0.0022\n",
      "Epoch 72/100\n",
      "1748/1748 [==============================] - 3s 1ms/step - loss: 0.0038 - mae: 0.0038 - val_loss: 0.0019 - val_mae: 0.0019\n",
      "Epoch 73/100\n",
      "1748/1748 [==============================] - 3s 1ms/step - loss: 0.0038 - mae: 0.0038 - val_loss: 0.0020 - val_mae: 0.0020\n",
      "Epoch 74/100\n",
      "1748/1748 [==============================] - 3s 1ms/step - loss: 0.0038 - mae: 0.0038 - val_loss: 0.0021 - val_mae: 0.0021\n",
      "Epoch 75/100\n",
      "1748/1748 [==============================] - 3s 1ms/step - loss: 0.0038 - mae: 0.0038 - val_loss: 0.0021 - val_mae: 0.0021\n",
      "Epoch 76/100\n",
      "1748/1748 [==============================] - 3s 1ms/step - loss: 0.0038 - mae: 0.0038 - val_loss: 0.0020 - val_mae: 0.0020\n",
      "Epoch 77/100\n",
      "1748/1748 [==============================] - 3s 1ms/step - loss: 0.0038 - mae: 0.0038 - val_loss: 0.0023 - val_mae: 0.0023\n",
      "Epoch 78/100\n",
      "1748/1748 [==============================] - 3s 1ms/step - loss: 0.0038 - mae: 0.0038 - val_loss: 0.0020 - val_mae: 0.0020\n",
      "Epoch 79/100\n",
      "1748/1748 [==============================] - 3s 1ms/step - loss: 0.0038 - mae: 0.0038 - val_loss: 0.0019 - val_mae: 0.0019\n",
      "Epoch 80/100\n",
      "1748/1748 [==============================] - 3s 1ms/step - loss: 0.0038 - mae: 0.0038 - val_loss: 0.0020 - val_mae: 0.0020\n",
      "Epoch 81/100\n",
      "1748/1748 [==============================] - 3s 1ms/step - loss: 0.0038 - mae: 0.0038 - val_loss: 0.0019 - val_mae: 0.0019\n",
      "Epoch 82/100\n",
      "1748/1748 [==============================] - 3s 1ms/step - loss: 0.0038 - mae: 0.0038 - val_loss: 0.0022 - val_mae: 0.0022\n",
      "Epoch 83/100\n",
      "1748/1748 [==============================] - 3s 1ms/step - loss: 0.0038 - mae: 0.0038 - val_loss: 0.0019 - val_mae: 0.0019\n",
      "Epoch 83: early stopping\n",
      "2185/2185 [==============================] - 2s 960us/step\n"
     ]
    }
   ],
   "source": [
    "model_1 = tf.keras.Sequential(\n",
    "    [\n",
    "        tf.keras.layers.Dense(128,activation=\"relu\"),\n",
    "        tf.keras.layers.Dense(batch_size,activation=\"linear\"), # linear activation is the same as no activation\n",
    "    ]\n",
    ")\n",
    "model_1.compile(optimizer=\"adam\",loss=\"mae\",metrics=[\"mae\"])\n",
    "model_1.fit(windows,labels,epochs=100,batch_size=32,callbacks=[es],validation_split=0.2)\n",
    "\n",
    "pred = model_1.predict(windows)"
   ]
  },
  {
   "cell_type": "code",
   "execution_count": 22,
   "metadata": {},
   "outputs": [
    {
     "data": {
      "text/plain": [
       "<matplotlib.legend.Legend at 0x13119775f90>"
      ]
     },
     "execution_count": 22,
     "metadata": {},
     "output_type": "execute_result"
    },
    {
     "data": {
      "image/png": "[encoded data removed]",
      "text/plain": [
       "<Figure size 640x480 with 1 Axes>"
      ]
     },
     "metadata": {},
     "output_type": "display_data"
    }
   ],
   "source": [
    "plt.plot(pred.flatten(),label=\"pred\",linewidth=0.5)\n",
    "plt.plot(labels.flatten(),label=\"true\",linewidth=0.5)\n",
    "plt.legend()"
   ]
  }
 ],
 "metadata": {
  "kernelspec": {
   "display_name": "Python 3",
   "language": "python",
   "name": "python3"
  },
  "language_info": {
   "codemirror_mode": {
    "name": "ipython",
    "version": 3
   },
   "file_extension": ".py",
   "mimetype": "text/x-python",
   "name": "python",
   "nbconvert_exporter": "python",
   "pygments_lexer": "ipython3",
   "version": "3.10.7"
  },
  "orig_nbformat": 4,
  "vscode": {
   "interpreter": {
    "hash": "13f3ce89a5df2ac5a13e4cc62c988721835be963b086d264dfe782dec54fd990"
   }
  }
 },
 "nbformat": 4,
 "nbformat_minor": 2
}
